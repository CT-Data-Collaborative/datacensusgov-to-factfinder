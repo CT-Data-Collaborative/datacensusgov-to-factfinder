{
 "cells": [
  {
   "cell_type": "markdown",
   "metadata": {},
   "source": [
    "# Transform new ACS table downloads from data.census.gov to FactFinder-like\n",
    "\n",
    "Modify ACS tables downloaded form data.census.gov to look like the downloads from FactFinder for backwards compatibility of CTData's R ACS update scripts. **Key differences in file formats:**\n",
    "* FactFinder downloads have a second column with a shorter FIPS code\n",
    "* FactFinder column names are not variable names, but \"row\" names (eg HD01_VD01 instead of B01001_001E)\n",
    "\n",
    "### How to use\n",
    "1. Put newly downloaded .csv tables into `data.census.gov/` folder\n",
    "1. Run the script\n",
    "1. The result files will be saved to `factfinder/` folder, renamed to match FactFinder file names"
   ]
  },
  {
   "cell_type": "code",
   "execution_count": 3,
   "metadata": {},
   "outputs": [],
   "source": [
    "import pandas as pd\n",
    "import glob"
   ]
  },
  {
   "cell_type": "code",
   "execution_count": 102,
   "metadata": {},
   "outputs": [],
   "source": [
    "def transform(path):\n",
    "    table = pd.read_csv(path)\n",
    "    \n",
    "    # First, make sure that variables columns are ordered properly (increasing, usually true but happened to be false)\n",
    "    header_vars = map(lambda x: int(x[7:10]), table.columns.tolist()[2:])\n",
    "    assert pd.Series(header_vars).is_monotonic == True, 'Variables are not ordered properly'\n",
    "    \n",
    "    # Second column = shorter FIPS\n",
    "    table.insert(1, 'GEO.id2', table.GEO_ID.apply(lambda x: x.split('US')[1] if 'US' in x else x))\n",
    "    \n",
    "    # Rename first row's first few columns\n",
    "    table = table.rename(columns={\n",
    "        'GEO_ID': 'GEO.id',\n",
    "        'NAME': 'GEO.display-label',\n",
    "    })\n",
    "    \n",
    "    table.loc[0]['GEO.id'] = 'Id'\n",
    "    table.loc[0]['GEO.id2'] = 'Id2'\n",
    "    table.loc[0]['GEO.display-label'] = 'Geographic Area Name'\n",
    "    \n",
    "    # New filename, like standard FactFinder's\n",
    "    vintage = path.split('/')[-1][9:11]\n",
    "    years = path.split('/')[-1][5:6]\n",
    "    number = path.split('/')[-1][12:18]\n",
    "\n",
    "    # Save transformed table\n",
    "    table.to_csv('factfinder/ACS_{}_{}YR_{}_with_ann.csv'.format(vintage, years, number), index=False)\n",
    "    \n",
    "    return True"
   ]
  },
  {
   "cell_type": "code",
   "execution_count": 106,
   "metadata": {},
   "outputs": [],
   "source": [
    "paths = glob.glob('./data.census.gov/*.csv')\n",
    "\n",
    "# Run transform on all files\n",
    "for path in paths:\n",
    "    transform(path)"
   ]
  },
  {
   "cell_type": "code",
   "execution_count": null,
   "metadata": {},
   "outputs": [],
   "source": []
  },
  {
   "cell_type": "code",
   "execution_count": null,
   "metadata": {},
   "outputs": [],
   "source": []
  },
  {
   "cell_type": "code",
   "execution_count": null,
   "metadata": {},
   "outputs": [],
   "source": []
  }
 ],
 "metadata": {
  "kernelspec": {
   "display_name": "Python 3",
   "language": "python",
   "name": "python3"
  },
  "language_info": {
   "codemirror_mode": {
    "name": "ipython",
    "version": 3
   },
   "file_extension": ".py",
   "mimetype": "text/x-python",
   "name": "python",
   "nbconvert_exporter": "python",
   "pygments_lexer": "ipython3",
   "version": "3.7.3"
  }
 },
 "nbformat": 4,
 "nbformat_minor": 4
}
